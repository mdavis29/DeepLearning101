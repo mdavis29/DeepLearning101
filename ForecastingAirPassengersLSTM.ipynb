{
 "cells": [
  {
   "cell_type": "markdown",
   "metadata": {},
   "source": [
    "\n",
    "#### Forecast using Air Passenger Data\n",
    "Here the famous Air Passenger dataset is use to create on step ahead forecast models using recurrent neural networks.  \n",
    "\n",
    "+ LSTM cells take input of the (n_obs, n_xdims, n_time)\n",
    "+ Statefull networks require the entire sequence of data to be preprocessed\n",
    "+"
   ]
  },
  {
   "cell_type": "code",
   "execution_count": 57,
   "metadata": {},
   "outputs": [
    {
     "data": {
      "text/html": [
       "<div>\n",
       "<style scoped>\n",
       "    .dataframe tbody tr th:only-of-type {\n",
       "        vertical-align: middle;\n",
       "    }\n",
       "\n",
       "    .dataframe tbody tr th {\n",
       "        vertical-align: top;\n",
       "    }\n",
       "\n",
       "    .dataframe thead th {\n",
       "        text-align: right;\n",
       "    }\n",
       "</style>\n",
       "<table border=\"1\" class=\"dataframe\">\n",
       "  <thead>\n",
       "    <tr style=\"text-align: right;\">\n",
       "      <th></th>\n",
       "      <th>value</th>\n",
       "    </tr>\n",
       "    <tr>\n",
       "      <th>time</th>\n",
       "      <th></th>\n",
       "    </tr>\n",
       "  </thead>\n",
       "  <tbody>\n",
       "    <tr>\n",
       "      <th>1949.000000</th>\n",
       "      <td>112</td>\n",
       "    </tr>\n",
       "    <tr>\n",
       "      <th>1949.083333</th>\n",
       "      <td>118</td>\n",
       "    </tr>\n",
       "    <tr>\n",
       "      <th>1949.166667</th>\n",
       "      <td>132</td>\n",
       "    </tr>\n",
       "    <tr>\n",
       "      <th>1949.250000</th>\n",
       "      <td>129</td>\n",
       "    </tr>\n",
       "    <tr>\n",
       "      <th>1949.333333</th>\n",
       "      <td>121</td>\n",
       "    </tr>\n",
       "  </tbody>\n",
       "</table>\n",
       "</div>"
      ],
      "text/plain": [
       "             value\n",
       "time              \n",
       "1949.000000    112\n",
       "1949.083333    118\n",
       "1949.166667    132\n",
       "1949.250000    129\n",
       "1949.333333    121"
      ]
     },
     "execution_count": 57,
     "metadata": {},
     "output_type": "execute_result"
    }
   ],
   "source": [
    "import pandas as pd\n",
    "import numpy as np\n",
    "from matplotlib import pyplot as plt\n",
    "from sklearn.preprocessing import MinMaxScaler, RobustScaler\n",
    "from sklearn.metrics import r2_score, mean_squared_error\n",
    "from keras.models import Sequential\n",
    "from keras.layers import Dense\n",
    "from keras.layers import LSTM, Dropout, BatchNormalization, Activation\n",
    "%matplotlib inline  \n",
    "\n",
    "url = 'https://raw.githubusercontent.com/vincentarelbundock/Rdatasets/master/csv/datasets/AirPassengers.csv'\n",
    "airPass = pd.read_csv(url)\n",
    "airPass.index = airPass['time']\n",
    "airPass.drop(['Unnamed: 0','time'], inplace=True, axis=1)\n",
    "airPass.head()"
   ]
  },
  {
   "cell_type": "markdown",
   "metadata": {},
   "source": [
    "#### Data Pre Processing for Forecasting\n",
    "+ data is lag so that time x = time0 and y= time +1 (One Step ahead)\n",
    "+ in this example, x is used twice to simulate a multi dimension x input for forecasting\n",
    "+ X, and Y sides are scale between (0,1) ( we will reverse the scaling for calculating error metrics\n",
    "+ Y is scaled so that the loss propagating back is all on the same scale, does create instablility"
   ]
  },
  {
   "cell_type": "code",
   "execution_count": 24,
   "metadata": {},
   "outputs": [
    {
     "name": "stdout",
     "output_type": "stream",
     "text": [
      "(n_years ie: obs), (n_xdims) , (time_steps ie months to consider)\n",
      "x_train: (9, 1, 12), y_train: (9, 12)\n",
      "x_test: (11, 1, 12), y_test: (11, 12)\n"
     ]
    }
   ],
   "source": [
    "n_obs = len(airPass['value'].values)\n",
    "n_ahead = 1 # in this case th\n",
    "n_time_steps = 12 # each observation will have 12 months of data\n",
    "n_obs_trimmed = int(n_obs/n_time_steps)\n",
    "n_xdims = 1 # created by hstacking the sequence to simumlate multi dimensional input\n",
    "n_train_obs = 9\n",
    "n_outputs = 12\n",
    "\n",
    "x = np.reshape(airPass['value'].values[0:n_obs_trimmed * n_time_steps  ], (-1, 1))\n",
    "scaler = MinMaxScaler().fit(x) \n",
    "x_scaled = scaler.transform(x)\n",
    "x_reshaped_scaled = np.reshape(x_scaled, (-1,n_xdims ,n_time_steps ))\n",
    "\n",
    "# trains on only the first n_train_observations, lags by n_ahead (in this case one year)\n",
    "X_train = x_reshaped_scaled[0:n_train_obs]\n",
    "y_train =  x_reshaped_scaled[n_ahead:(n_train_obs + n_ahead)].squeeze()   # squeeze reshapes from 3 to 2d\n",
    "\n",
    "# test on full data set \n",
    "X_test = x_reshaped_scaled[n_ahead:]\n",
    "y_test =  x_reshaped_scaled[n_ahead:].squeeze()   \n",
    "\n",
    "print('(n_years ie: obs), (n_xdims) , (time_steps ie months to consider)')\n",
    "print('x_train: {0}, y_train: {1}'.format(X_train.shape, y_train.shape))\n",
    "print('x_test: {0}, y_test: {1}'.format(X_test.shape, y_test.shape))\n"
   ]
  },
  {
   "cell_type": "markdown",
   "metadata": {},
   "source": [
    "#### Modeling\n",
    "Keras lstm with 12 cells is used, with 12 outputs (one for each month of the year)\n",
    "This forecasting system will forecast an entire year at a time. \n",
    "+ Dropout is used to prevent over fitting\n",
    "+ one row of input to this model is essentually 12 months of passenger counts of shape (1, 1, 12)"
   ]
  },
  {
   "cell_type": "code",
   "execution_count": 71,
   "metadata": {},
   "outputs": [
    {
     "name": "stdout",
     "output_type": "stream",
     "text": [
      "_________________________________________________________________\n",
      "Layer (type)                 Output Shape              Param #   \n",
      "=================================================================\n",
      "lstm_9 (LSTM)                (1, 12)                   1200      \n",
      "_________________________________________________________________\n",
      "dense_9 (Dense)              (1, 12)                   156       \n",
      "_________________________________________________________________\n",
      "activation_9 (Activation)    (1, 12)                   0         \n",
      "=================================================================\n",
      "Total params: 1,356\n",
      "Trainable params: 1,356\n",
      "Non-trainable params: 0\n",
      "_________________________________________________________________\n",
      "mse last 5 epochs [0.0445328104225072, 0.045325480909510094, 0.04572556675835089, 0.04841325178065083, 0.053399924358183685]\n"
     ]
    }
   ],
   "source": [
    "from keras.callbacks import EarlyStopping\n",
    "esm = EarlyStopping(patience=4)\n",
    "\n",
    "# design network\n",
    "model = Sequential()\n",
    "\n",
    "model.add(LSTM(12, input_shape=(n_xdims, n_time_steps ),return_sequences=False,  \n",
    "               dropout=0.2, recurrent_dropout=0.2, stateful=False, batch_size=1))\n",
    "model.add(Dense(n_outputs ))\n",
    "model.add(Activation('linear'))\n",
    "model.compile(loss='mae', optimizer='adam')\n",
    "model.summary()\n",
    "\n",
    "# fit the model\n",
    "history = model.fit(X_train,y_train, epochs=100, batch_size=1, validation_data=(X_test, y_test), verbose=0, shuffle=False, callbacks=[esm])\n",
    "\n",
    "print('mse last 5 epochs {}'.format(history.history['val_loss'][-5:]))\n"
   ]
  },
  {
   "cell_type": "markdown",
   "metadata": {},
   "source": [
    "##### Peformance on Entire Dataset\n",
    "Peformance is check across the entire dataset using mean squared error and R2_score\n",
    "The MaxMin scaler is reversed to get predictions back on the orignal scale "
   ]
  },
  {
   "cell_type": "code",
   "execution_count": 72,
   "metadata": {},
   "outputs": [
    {
     "name": "stdout",
     "output_type": "stream",
     "text": [
      "performance on entire data sets mse: 997.776 r2: 0.925\n"
     ]
    }
   ],
   "source": [
    "preds = scaler.inverse_transform(np.reshape(model.predict(X_test, batch_size=1), (-1, 1))).flatten()\n",
    "y_true = airPass['value'].values[n_time_steps:]\n",
    "val_df = pd.DataFrame({'preds': preds, 'y_true':y_true})\n",
    "mse = round(mean_squared_error(y_true, preds), 3)\n",
    "r2 = round(r2_score(y_true, preds), 3)\n",
    "print('performance on entire data sets mse: {} r2: {}'.format(mse, r2))"
   ]
  },
  {
   "cell_type": "markdown",
   "metadata": {},
   "source": [
    "##### Peformance on Test Set\n",
    "Since the last two years (24 timesteps) were held out as a test, we can test performance just on that portion\n",
    "The MaxMin scaler is reversed to get predictions back on the orignal scale. This should show a small drop in performance."
   ]
  },
  {
   "cell_type": "code",
   "execution_count": 74,
   "metadata": {},
   "outputs": [
    {
     "name": "stdout",
     "output_type": "stream",
     "text": [
      "performance on last two years only in the test set, mse: 648.259 r2: 0.884\n"
     ]
    }
   ],
   "source": [
    "y_true_test = airPass['value'].values[n_time_steps:][-24:]\n",
    "preds_test = preds[-24:]\n",
    "mse_test = round(mean_squared_error(y_true_test, preds_test), 3)\n",
    "r2_test = round(r2_score(y_true_test, preds_test), 3)\n",
    "print('performance on last two years only in the test set, mse: {} r2: {}'.format(mse_test, r2_test))"
   ]
  },
  {
   "cell_type": "code",
   "execution_count": 63,
   "metadata": {},
   "outputs": [
    {
     "data": {
      "text/plain": [
       "<matplotlib.axes._subplots.AxesSubplot at 0x1f0cbbed400>"
      ]
     },
     "execution_count": 63,
     "metadata": {},
     "output_type": "execute_result"
    },
    {
     "data": {
      "image/png": "[encoded data removed]",
      "text/plain": [
       "<matplotlib.figure.Figure at 0x1f0cbbf95f8>"
      ]
     },
     "metadata": {},
     "output_type": "display_data"
    }
   ],
   "source": [
    "val_df.plot()"
   ]
  }
 ],
 "metadata": {
  "kernelspec": {
   "display_name": "Python 3",
   "language": "python",
   "name": "python3"
  },
  "language_info": {
   "codemirror_mode": {
    "name": "ipython",
    "version": 3
   },
   "file_extension": ".py",
   "mimetype": "text/x-python",
   "name": "python",
   "nbconvert_exporter": "python",
   "pygments_lexer": "ipython3",
   "version": "3.6.9"
  }
 },
 "nbformat": 4,
 "nbformat_minor": 2
}
