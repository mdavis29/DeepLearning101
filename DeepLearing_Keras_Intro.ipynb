{
 "cells": [
  {
   "cell_type": "markdown",
   "metadata": {},
   "source": [
    "### Introduction to Keras Functional API\n",
    "keras is a deep learning API that can run on a computation back such as tensor flow or theano.  This allows a much more readable system for creating, traning and deploying \n",
    "+ Keras has two API (functional and sequential)\n",
    "This into uses the functional API\n",
    "\n",
    "##### Creating a keras model\n",
    "Keras models are comprised of the following components\n",
    "\n",
    "+ Architecture:\n",
    "    + Inputs\n",
    "    + Layers\n",
    "        + Initializers \n",
    "        + Activation Functions\n",
    "    + Outputs\n",
    "\n",
    "+ Loss Function (how to calculated error when the model is training for each row )\n",
    "+ Optimizer (how weights are adjusted after the error is calculated)\n",
    "+ Metrics (batch wise  over all statistics during training)\n",
    "+ Callbacks (extra steps during training to monitor progress optional)\n"
   ]
  },
  {
   "cell_type": "code",
   "execution_count": 33,
   "metadata": {},
   "outputs": [
    {
     "data": {
      "text/plain": [
       "((426, 30), (426,))"
      ]
     },
     "execution_count": 33,
     "metadata": {},
     "output_type": "execute_result"
    }
   ],
   "source": [
    "# loads a data set\n",
    "import numpy as np\n",
    "from sklearn.datasets import load_breast_cancer\n",
    "from sklearn.model_selection import train_test_split\n",
    "\n",
    "\n",
    "import warnings \n",
    "with warnings.catch_warnings():\n",
    "    warnings.simplefilter(\"ignore\")\n",
    "\n",
    "    from keras.layers import Input, Dense, BatchNormalization\n",
    "    from keras.models import Model\n",
    "    from keras.callbacks import EarlyStopping, ModelCheckpoint, ReduceLROnPlateau\n",
    "    import keras.backend as K\n",
    "    from keras.utils import to_categorical\n",
    "\n",
    "np.random.seed(2012)\n",
    "bc = load_breast_cancer()\n",
    "feature_names = bc.feature_names\n",
    "X_train, X_test, y_train, y_test = train_test_split(bc.data, bc.target, random_state=2012)\n",
    "\n",
    "X_train.shape, y_train.shape\n"
   ]
  },
  {
   "cell_type": "markdown",
   "metadata": {},
   "source": [
    "#### Set Up Inputs Using Keras Input Layer\n",
    "\n",
    "keras Input shape as an argument where shape tuple of integers. This is tpyically refered to as the 'input_layer'\n",
    "\n",
    "+ 2D, (rows, columns)  for data with num_samples and n_features, ```Input(shape=( n_features,))```\n",
    "\n",
    "    This means the the network is expecting an array with shape (num_samples,  n_features), each batch will be a subset of rows\n",
    "\n",
    "\n",
    "+ 3D Inputs such as time sequences ```Input(shape=(time_steps, n_features)```\n",
    "\n",
    "    This means the model would expect input of the shape(n_samples, time_steps, n_features)\n",
    "    an example of this would be a data set 10 sequential observations of pulse and temp for 50 patients would have shape\n",
    "    (50, 10, 2), batches would be a subset of patients\n",
    "\n",
    "\n",
    "+ 4D Data Such as Images ```Input(shape=(width, height, n_color_channels))```\n",
    "The data input expect for this scheme would be of the shape (n_samples, width, height, n_color_channels) where the batches are taken from a subset of sample images\n"
   ]
  },
  {
   "cell_type": "code",
   "execution_count": 2,
   "metadata": {},
   "outputs": [],
   "source": [
    "# get the number of columns of the input data\n",
    "n_input_cols = X_train.shape[1]\n",
    "\n",
    "# sets up the input shape expectation for the model\n",
    "inputs = Input(shape=(n_input_cols,))"
   ]
  },
  {
   "cell_type": "markdown",
   "metadata": {},
   "source": [
    "#### Layers \n",
    "There are many types of keras layers. The most common is a Dense Layer.\n",
    "+ BatchNormalizationLayer: takes data from previous layer, try to keep mean 0 stdev 1 \n",
    "    + maintains weights that are trainable for this transformation\n",
    "    + takes input from previous layer, attempts to scale each input it to mean 0 stdev 1\n",
    "\n",
    "+ Dense Layers have a number of nodes, \n",
    "   +  ``` Dense(5)```  uses default intializer for weights and bias, has 5 hidden nodes\n",
    "    + maintains weights, and biases that are trainable\n",
    "    + multiplies a different wieght for each input for each node, add bias and sums\n",
    "    + takes that value and puts it through an activation function, such as Relu or TANH\n",
    "    \n",
    "##### Initializers\n",
    "In a dense layer, the weights (kernal) need to be initialized some how, either choosen from a random normal distrobution at random, set to all zeros or most typically choosen from the 'glorot_uniform' distrobution\n",
    "\n",
    "##### Activation Functions\n",
    "Activation functions are applied at each node to additionally transform the data.  The most typical is relu {x: x <0 then 0 else x}"
   ]
  },
  {
   "cell_type": "code",
   "execution_count": 3,
   "metadata": {},
   "outputs": [],
   "source": [
    "\n",
    "# add normalization layer mean activation close to 0 and the activation standard deviation close to 1.\n",
    "normalization_layer = BatchNormalization()(inputs)\n",
    "\n",
    "# add a hidden Layer with 5 hidden notes\n",
    "hidden_layer = Dense(5, activation='relu', kernel_initializer='glorot_uniform', bias_initializer='zeros')( normalization_layer)\n"
   ]
  },
  {
   "cell_type": "markdown",
   "metadata": {},
   "source": [
    "#### Outputs \n",
    "The output layer of the network is typically just another Dense Layer with an activation function that matches your prediction problem\n",
    "+ Number of nodes must match number of columns of your outcomes\n",
    "\n",
    "##### Classication\n",
    " + Classication where lables are an array of integer classes, is [1,0,1,0, 0 ..]\n",
    "      + ```outputs = Dense(1, activation='sigmoid')(hidden_layer)```\n",
    "      + when calling model.compile, use ```loss = 'binary_crossentropy'```\n",
    " + Classication where labels are one hot encododed [[1, 0], [0,1], ...]\n",
    "      + ```outputs = Dense(num_label_columns, activation='sigmoid')(hidden_layer)```\n",
    "      + when calling model.compile, use ```loss = 'categorical_crossentropy'```\n",
    " + Mulit Class Classication where labels are a list of integer classes [1,2,0,4, ... ]\n",
    "      + ```outputs = Dense(num_classes, activation='sigmoid')(hidden_layer)```\n",
    "      + when calling model.compile, use ```loss = 'sparse_categorical_crossentropy'```\n",
    " + Activation:\n",
    "     + 'sigmoid': when actually probabilities are important\n",
    "     + 'softmax': when only classication accuracy is important\n",
    "     \n",
    "##### Regression\n",
    "  + ```outputs = Dense(num_output_columns, activation='linear')(hidden_layer)```\n",
    "  + when calling model.compile, use ```loss = 'mean_squared_error'``` or similiar \n",
    "   "
   ]
  },
  {
   "cell_type": "code",
   "execution_count": 4,
   "metadata": {},
   "outputs": [],
   "source": [
    "\n",
    "# create ouput layer of the model  \n",
    "outputs = Dense(1, activation='sigmoid')(hidden_layer)\n",
    "model = Model(inputs=inputs, outputs=outputs)\n"
   ]
  },
  {
   "cell_type": "markdown",
   "metadata": {},
   "source": [
    "#### Compline the model meas assembling it together and defining a loss function and optimizer and any callbacks\n",
    "+ Optimizer is the method of that adjusts each weight given the Loss calcuated at the end of each batch\n",
    "    + typicaly choose 'adam' or 'Nadam'\n",
    "    \n",
    "+ Loss Function is how the model will calculated error for each sample, entropy based for classication and error based for the regression \n",
    "+ Metrics are calculated on batches of data (like AUC or correlation)\n"
   ]
  },
  {
   "cell_type": "code",
   "execution_count": 5,
   "metadata": {},
   "outputs": [
    {
     "name": "stdout",
     "output_type": "stream",
     "text": [
      "Model: \"model_1\"\n",
      "_________________________________________________________________\n",
      "Layer (type)                 Output Shape              Param #   \n",
      "=================================================================\n",
      "input_1 (InputLayer)         (None, 30)                0         \n",
      "_________________________________________________________________\n",
      "batch_normalization_1 (Batch (None, 30)                120       \n",
      "_________________________________________________________________\n",
      "dense_1 (Dense)              (None, 5)                 155       \n",
      "_________________________________________________________________\n",
      "dense_2 (Dense)              (None, 1)                 6         \n",
      "=================================================================\n",
      "Total params: 281\n",
      "Trainable params: 221\n",
      "Non-trainable params: 60\n",
      "_________________________________________________________________\n"
     ]
    }
   ],
   "source": [
    "# Compile the model \n",
    "esm = EarlyStopping(monitor='val_loss', min_delta=0, patience=0)\n",
    "model.compile(optimizer='adam', loss = 'binary_crossentropy', metrics=['accuracy'])\n",
    "\n",
    "model.summary()"
   ]
  },
  {
   "cell_type": "markdown",
   "metadata": {},
   "source": [
    "#### Call Backs \n",
    "Call backs are esentially methods that run after each step.  The could send the results to tensorboard, save and check point the model, or in this case stop training if the model fails to improve\n",
    "\n",
    "+ EarlyStopping monitors the loss function, if it fails to improve in 2 batches, the model stops training\n",
    "+ ModelCheckpoint saves only the weights if the metric improves \n",
    "+ ReduceLROnPlateau reduces the learning rate when the metric plateaus\n"
   ]
  },
  {
   "cell_type": "code",
   "execution_count": 6,
   "metadata": {},
   "outputs": [],
   "source": [
    "epochs = 20\n",
    "\n",
    "# intial learning rate\n",
    "learning_rate = .01\n",
    "\n",
    "# factor to reduce learning rate on plateau\n",
    "lrPlateauReductionFactor = .5\n",
    "\n",
    "# minimum learning rate\n",
    "lrMin = 0.0001\n",
    "weights_path = \"weights_best.hdf5\"\n",
    "patience = 5\n",
    "metric =  'val_accuracy'\n",
    "\n",
    "\n",
    "# adjusts the learing rate\n",
    "K.set_value(model.optimizer.lr,learning_rate)\n",
    "\n",
    "# sets an early stopping callback\n",
    "esm =  EarlyStopping(patience=patience, monitor=metric )\n",
    "\n",
    "# saves only the best weights\n",
    "checkpoint = ModelCheckpoint(weights_path ,mode='max', monitor=metric, verbose=0, save_best_only=True)\n",
    "\n",
    "# reduces learning rate on performance platu\n",
    "lrReducer = ReduceLROnPlateau(monitor=metric, factor=lrPlateauReductionFactor, min=lrMin)\n"
   ]
  },
  {
   "cell_type": "markdown",
   "metadata": {},
   "source": [
    "#### Training\n",
    "the .fit method is call on a X,y\n",
    "+ batch size is the number of rows sampled from x used to calcuated loss, and adjust weights\n",
    "+ validation_data is a tuple of (X,y) test data in which metrics and loss are callculated during each step\n",
    "+ epochs is the number of passed through the entire data set\n",
    "+ callbacks are a list of callback objects"
   ]
  },
  {
   "cell_type": "code",
   "execution_count": 7,
   "metadata": {},
   "outputs": [
    {
     "name": "stdout",
     "output_type": "stream",
     "text": [
      "Train on 426 samples, validate on 143 samples\n",
      "Epoch 1/20\n",
      "426/426 [==============================] - 0s 827us/step - loss: 0.3029 - accuracy: 0.9108 - val_loss: 7.0827 - val_accuracy: 0.3217\n",
      "Epoch 2/20\n",
      "426/426 [==============================] - 0s 102us/step - loss: 0.1489 - accuracy: 0.9531 - val_loss: 7.8954 - val_accuracy: 0.3217\n",
      "Epoch 3/20\n",
      "426/426 [==============================] - 0s 92us/step - loss: 0.1192 - accuracy: 0.9460 - val_loss: 7.1744 - val_accuracy: 0.3217\n",
      "Epoch 4/20\n",
      "426/426 [==============================] - 0s 118us/step - loss: 0.1546 - accuracy: 0.9460 - val_loss: 4.7748 - val_accuracy: 0.3217\n",
      "Epoch 5/20\n",
      "426/426 [==============================] - 0s 97us/step - loss: 0.0965 - accuracy: 0.9671 - val_loss: 3.9736 - val_accuracy: 0.3217\n",
      "Epoch 6/20\n",
      "426/426 [==============================] - 0s 123us/step - loss: 0.0875 - accuracy: 0.9695 - val_loss: 3.2028 - val_accuracy: 0.3357\n",
      "Epoch 7/20\n",
      "426/426 [==============================] - 0s 103us/step - loss: 0.1141 - accuracy: 0.9507 - val_loss: 2.3367 - val_accuracy: 0.3776\n",
      "Epoch 8/20\n",
      "426/426 [==============================] - 0s 114us/step - loss: 0.1337 - accuracy: 0.9507 - val_loss: 1.6549 - val_accuracy: 0.4336\n",
      "Epoch 9/20\n",
      "426/426 [==============================] - 0s 99us/step - loss: 0.0685 - accuracy: 0.9789 - val_loss: 1.5806 - val_accuracy: 0.4755\n",
      "Epoch 10/20\n",
      "426/426 [==============================] - 0s 117us/step - loss: 0.0607 - accuracy: 0.9836 - val_loss: 1.2565 - val_accuracy: 0.5664\n",
      "Epoch 11/20\n",
      "426/426 [==============================] - 0s 127us/step - loss: 0.0970 - accuracy: 0.9624 - val_loss: 0.8230 - val_accuracy: 0.6853\n",
      "Epoch 12/20\n",
      "426/426 [==============================] - 0s 111us/step - loss: 0.0649 - accuracy: 0.9789 - val_loss: 0.4602 - val_accuracy: 0.7832\n",
      "Epoch 13/20\n",
      "426/426 [==============================] - 0s 126us/step - loss: 0.0694 - accuracy: 0.9671 - val_loss: 0.5400 - val_accuracy: 0.7622\n",
      "Epoch 14/20\n",
      "426/426 [==============================] - 0s 125us/step - loss: 0.0479 - accuracy: 0.9859 - val_loss: 0.4708 - val_accuracy: 0.7902\n",
      "Epoch 15/20\n",
      "426/426 [==============================] - 0s 135us/step - loss: 0.0881 - accuracy: 0.9836 - val_loss: 0.3169 - val_accuracy: 0.8322\n",
      "Epoch 16/20\n",
      "426/426 [==============================] - 0s 114us/step - loss: 0.0912 - accuracy: 0.9695 - val_loss: 0.3133 - val_accuracy: 0.8252\n",
      "Epoch 17/20\n",
      "426/426 [==============================] - 0s 101us/step - loss: 0.0728 - accuracy: 0.9765 - val_loss: 0.1839 - val_accuracy: 0.9301\n",
      "Epoch 18/20\n",
      "426/426 [==============================] - 0s 126us/step - loss: 0.0735 - accuracy: 0.9789 - val_loss: 0.1353 - val_accuracy: 0.9580\n",
      "Epoch 19/20\n",
      "426/426 [==============================] - 0s 100us/step - loss: 0.0947 - accuracy: 0.9554 - val_loss: 0.1379 - val_accuracy: 0.9371\n",
      "Epoch 20/20\n",
      "426/426 [==============================] - 0s 98us/step - loss: 0.0704 - accuracy: 0.9765 - val_loss: 0.1294 - val_accuracy: 0.9510\n"
     ]
    },
    {
     "data": {
      "text/plain": [
       "<keras.callbacks.callbacks.History at 0x7fdeb8788d68>"
      ]
     },
     "execution_count": 7,
     "metadata": {},
     "output_type": "execute_result"
    }
   ],
   "source": [
    "model.fit(X_train, y_train, validation_data=(X_test, y_test),  \n",
    "          batch_size=32, \n",
    "          epochs=epochs,  callbacks=[esm, checkpoint, lrReducer])\n"
   ]
  },
  {
   "cell_type": "markdown",
   "metadata": {},
   "source": [
    "#### Model Understanding Using Shap Values\n",
    "\n",
    "Basic understanding on by predictions are being made is oftne a requirment orf the model.  The following uses shap values to calcuate feature contributions at the row level for any genaric function using shap Kernal Explainer\n",
    "\n",
    "\n",
    "This based on resample the data, and nsamples times, so it is computational expensive\n",
    "\n",
    "[https://github.com/slundberg/shap]"
   ]
  },
  {
   "cell_type": "code",
   "execution_count": 55,
   "metadata": {},
   "outputs": [
    {
     "data": {
      "application/vnd.jupyter.widget-view+json": {
       "model_id": "c2d3c13c032941a9bb5630aec6f060e8",
       "version_major": 2,
       "version_minor": 0
      },
      "text/plain": [
       "HBox(children=(IntProgress(value=0, max=143), HTML(value='')))"
      ]
     },
     "metadata": {},
     "output_type": "display_data"
    },
    {
     "name": "stdout",
     "output_type": "stream",
     "text": [
      "\n"
     ]
    }
   ],
   "source": [
    "import shap\n",
    "\n",
    "explainer = shap.KernelExplainer(model.predict, X_train, feature_names=feature_names)\n",
    "with warnings.catch_warnings():\n",
    "    warnings.simplefilter(\"ignore\")\n",
    "    shap_values = explainer.shap_values(X_test, nsamples=10)[0]"
   ]
  },
  {
   "cell_type": "code",
   "execution_count": 56,
   "metadata": {},
   "outputs": [
    {
     "data": {
      "image/png": "[encoded data removed]",
      "text/plain": [
       "<Figure size 576x684 with 1 Axes>"
      ]
     },
     "metadata": {
      "needs_background": "light"
     },
     "output_type": "display_data"
    }
   ],
   "source": [
    "shap.summary_plot(shap_values, X_test, plot_type=\"bar\", feature_names=feature_names)"
   ]
  },
  {
   "cell_type": "code",
   "execution_count": null,
   "metadata": {},
   "outputs": [],
   "source": [
    "#### Contributions of Indivual Features"
   ]
  },
  {
   "cell_type": "code",
   "execution_count": 60,
   "metadata": {},
   "outputs": [
    {
     "data": {
      "text/plain": [
       "(143, 30)"
      ]
     },
     "execution_count": 60,
     "metadata": {},
     "output_type": "execute_result"
    }
   ],
   "source": []
  },
  {
   "cell_type": "code",
   "execution_count": 62,
   "metadata": {},
   "outputs": [
    {
     "data": {
      "text/plain": [
       "<Figure size 432x288 with 0 Axes>"
      ]
     },
     "metadata": {},
     "output_type": "display_data"
    },
    {
     "data": {
      "image/png": "[encoded data removed]",
      "text/plain": [
       "<Figure size 540x360 with 1 Axes>"
      ]
     },
     "metadata": {
      "needs_background": "light"
     },
     "output_type": "display_data"
    }
   ],
   "source": [
    "from matplotlib import pyplot as plt\n",
    "plt.figure()\n",
    "shap.plots.dependence.dependence_plot('mean radius', shap_values, X_test, feature_names, interaction_index=None )\n",
    "plt.show()\n",
    "display()"
   ]
  },
  {
   "cell_type": "markdown",
   "metadata": {},
   "source": [
    "#### Model Persistance\n",
    "Saving and reloading the model this show saving the entire model "
   ]
  },
  {
   "cell_type": "code",
   "execution_count": 9,
   "metadata": {},
   "outputs": [
    {
     "data": {
      "text/plain": [
       "array([[0.98319626],\n",
       "       [0.9605296 ],\n",
       "       [0.71251357]], dtype=float32)"
      ]
     },
     "execution_count": 9,
     "metadata": {},
     "output_type": "execute_result"
    }
   ],
   "source": [
    "from keras.models import load_model\n",
    "\n",
    "model.save('my_model.h5')  # creates a HDF5 file 'my_model.h5'\n",
    "del model  # deletes the existing model\n",
    "\n",
    "# returns a compiled model\n",
    "# identical to the previous one\n",
    "model = load_model('my_model.h5')\n",
    "model.predict(X_test)[0:3, :]"
   ]
  },
  {
   "cell_type": "markdown",
   "metadata": {},
   "source": [
    "#### Model Persistance\n",
    "This save the architechel to json and weights seperately."
   ]
  },
  {
   "cell_type": "code",
   "execution_count": 20,
   "metadata": {},
   "outputs": [
    {
     "data": {
      "text/plain": [
       "array([[0.98319626],\n",
       "       [0.9605296 ],\n",
       "       [0.71251357]], dtype=float32)"
      ]
     },
     "execution_count": 20,
     "metadata": {},
     "output_type": "execute_result"
    }
   ],
   "source": [
    "\n",
    "# model reconstruction from JSON:\n",
    "from keras.models import model_from_json\n",
    "import json\n",
    "\n",
    "# save as JSON\n",
    "json_string = model.to_json()\n",
    "with open('my_model.json', 'w') as f:\n",
    "    json.dump(json_string, f)\n",
    "\n",
    "# save weights\n",
    "model.save_weights('my_model_weights.h5')\n",
    "\n",
    "del model\n",
    "del json_string\n",
    "\n",
    "\n",
    "# model reconstruction from JSON:\n",
    "from keras.models import model_from_json\n",
    "with open('my_model.json', 'r') as f:\n",
    "    json_string = json.load(f)\n",
    "model = model_from_json(json_string)\n",
    "model.load_weights('my_model_weights.h5')\n",
    "model.predict(X_test)[0:3, :]\n"
   ]
  },
  {
   "cell_type": "code",
   "execution_count": 18,
   "metadata": {},
   "outputs": [],
   "source": []
  }
 ],
 "metadata": {
  "kernelspec": {
   "display_name": "Python 3",
   "language": "python",
   "name": "python3"
  },
  "language_info": {
   "codemirror_mode": {
    "name": "ipython",
    "version": 3
   },
   "file_extension": ".py",
   "mimetype": "text/x-python",
   "name": "python",
   "nbconvert_exporter": "python",
   "pygments_lexer": "ipython3",
   "version": "3.6.9"
  }
 },
 "nbformat": 4,
 "nbformat_minor": 2
}
